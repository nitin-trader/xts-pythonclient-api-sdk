{
 "cells": [
  {
   "cell_type": "code",
   "execution_count": 87,
   "metadata": {},
   "outputs": [
    {
     "name": "stdout",
     "output_type": "stream",
     "text": [
      "1800\n"
     ]
    }
   ],
   "source": [
    "from Connect import XTSConnect\n",
    "import pandas as pd\n",
    "import csv\n",
    "from io import StringIO\n",
    "import fileinput\n",
    "import sys\n",
    "\n",
    "API_KEY_INTERACTIVE = \"1fc6a3fa6bf5987eff7674\"\n",
    "API_SECRET_INTERACTIVE = \"Xqmm333#iz\"\n",
    "API_KEY_MARKET = \"57dab0d61dd54ab82a7155\"\n",
    "API_SECRET_MARKET = \"Pxgx777@W6\"\n",
    "clientID = \"DBS7760\"\n",
    "XTS_API_BASE_URL = \"https://xts.rmoneyindia.co.in:3000/\"\n",
    "source = \"WEBAPI\"\n",
    "\n",
    "XTi=XTSConnect(API_KEY_INTERACTIVE,API_SECRET_INTERACTIVE,source)\n",
    "XTi.interactive_login()\n",
    "\n",
    "XTm=XTSConnect(API_KEY_MARKET, API_SECRET_MARKET, source)\n",
    "XTm.marketdata_login()\n",
    "\n",
    "#config=XTm.get_config()\n",
    "#print(config)\n",
    "\n"
   ]
  },
  {
   "cell_type": "code",
   "execution_count": 88,
   "metadata": {},
   "outputs": [
    {
     "name": "stdout",
     "output_type": "stream",
     "text": [
      "1800\n"
     ]
    }
   ],
   "source": [
    "exchangesegments = [XTm.EXCHANGE_NSEFO]\n",
    "response=XTm.get_master(exchangeSegmentList=exchangesegments)\n",
    "response=response['result'].replace('|', ',')\n",
    "response='\\n'.join([line for line in response.splitlines() if not line.endswith('FUT')])\n",
    "response=StringIO(response)\n",
    "FnO_scrip_master=pd.read_csv(response, engine='python',header=1)\n",
    "FnO_scrip_master.columns=['ExchangeSegment','ExchangeInstrumentID','InstrumentType','Name','Description','Series','NameWithSeries','InstrumentID','PriceBand.High',\n",
    "                          'PriceBand.Low','FreezeQty','TickSize','LotSize','Multiplier','UnderlyingInstrumentId','UnderlyingIndexName','ContractExpiration',\n",
    "                          'StrikePrice','OptionType','DisplayName','PriceNumerator','PriceDenominator','DetailedDescription']\n",
    "lotsize=FnO_scrip_master.loc[FnO_scrip_master['Name']=='BPCL','LotSize'].values[0]\n",
    "print(lotsize)"
   ]
  },
  {
   "cell_type": "code",
   "execution_count": 93,
   "metadata": {},
   "outputs": [
    {
     "name": "stdout",
     "output_type": "stream",
     "text": [
      "254.55 New\n"
     ]
    }
   ],
   "source": [
    "response={\n",
    "  \"type\": \"success\",\n",
    "  \"code\": \"s-user-0001\",\n",
    "  \"description\": \"Success order history\",\n",
    "  \"result\": [\n",
    "    {\n",
    "      \"LoginID\": \"SYMP1\",\n",
    "      \"ClientID\": \"SYMP1\",\n",
    "      \"AppOrderID\": 648468730,\n",
    "      \"OrderReferenceID\": \"\",\n",
    "      \"GeneratedBy\": \"TWSAPI\",\n",
    "      \"ExchangeOrderID\": \"1005239196374108\",\n",
    "      \"OrderCategoryType\": \"NORMAL\",\n",
    "      \"ExchangeSegment\": \"NSECM\",\n",
    "      \"ExchangeInstrumentID\": 16921,\n",
    "      \"OrderSide\": \"BUY\",\n",
    "      \"OrderType\": \"Limit\",\n",
    "      \"ProductType\": \"NRML\",\n",
    "      \"TimeInForce\": \"DAY\",\n",
    "      \"OrderPrice\": 254.55,\n",
    "      \"OrderQuantity\": 15,\n",
    "      \"OrderStopPrice\": 0,\n",
    "      \"OrderStatus\": \"New\",\n",
    "      \"OrderAverageTradedPrice\": 250.4,\n",
    "      \"LeavesQuantity\": 1,\n",
    "      \"CumulativeQuantity\": 0,\n",
    "      \"OrderDisclosedQuantity\": 0,\n",
    "      \"OrderGeneratedDateTime\": \"14-05-2021 11:17:29\",\n",
    "      \"ExchangeTransactTime\": \"14-05-2021 11:17:30\",\n",
    "      \"LastUpdateDateTime\": \"14-05-2021 11:17:29\",\n",
    "      \"OrderExpiryDate\": \"01-01-1980 00:00:00\",\n",
    "      \"CancelRejectReason\": \"\",\n",
    "      \"OrderUniqueIdentifier\": \"123abc\",\n",
    "      \"OrderLegStatus\": \"SingleOrderLeg\",\n",
    "      \"BoLegDetails\": 0,\n",
    "      \"IsSpread\": False,\n",
    "      \"BoEntryOrderId\": \"\",\n",
    "      \"MessageCode\": 9004,\n",
    "      \"MessageVersion\": 4,\n",
    "      \"TokenID\": 0,\n",
    "      \"ApplicationType\": 0,\n",
    "      \"SequenceNumber\": 0\n",
    "    }\n",
    "  ]\n",
    "}\n",
    "response=pd.DataFrame(response['result'])\n",
    "transaction_price = response['OrderPrice'].astype(float)[0]\n",
    "order_status = response['OrderStatus'].astype(str)[0]\n",
    "\n",
    "print(transaction_price, order_status)\n"
   ]
  },
  {
   "cell_type": "code",
   "execution_count": 126,
   "metadata": {},
   "outputs": [
    {
     "name": "stdout",
     "output_type": "stream",
     "text": [
      "2024-12-29 14:34:51310804\n"
     ]
    }
   ],
   "source": [
    "from datetime import datetime\n",
    "#current_time=str(datetime.now().timestamp()).replace('.','')\n",
    "current_time=str(datetime.now().time()).replace('.','')\n",
    "print(current_time)\n",
    "#print(str(current_time.timestamp()).replace('.',''))"
   ]
  }
 ],
 "metadata": {
  "kernelspec": {
   "display_name": "Python 3",
   "language": "python",
   "name": "python3"
  },
  "language_info": {
   "codemirror_mode": {
    "name": "ipython",
    "version": 3
   },
   "file_extension": ".py",
   "mimetype": "text/x-python",
   "name": "python",
   "nbconvert_exporter": "python",
   "pygments_lexer": "ipython3",
   "version": "3.9.6"
  }
 },
 "nbformat": 4,
 "nbformat_minor": 2
}
